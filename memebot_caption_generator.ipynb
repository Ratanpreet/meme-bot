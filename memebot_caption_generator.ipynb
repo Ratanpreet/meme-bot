{
 "cells": [
  {
   "cell_type": "code",
   "execution_count": null,
   "id": "497dda1e",
   "metadata": {},
   "outputs": [],
   "source": [
    "%pip install -q sentence-transformers transformers accelerate Pillow\n"
   ]
  },
  {
   "cell_type": "code",
   "execution_count": null,
   "id": "e8c866b4",
   "metadata": {},
   "outputs": [],
   "source": [
    "import os\n",
    "import json\n",
    "from sentence_transformers import SentenceTransformer, util\n",
    "from transformers import AutoProcessor, LlavaForConditionalGeneration\n",
    "from PIL import Image\n",
    "import torch\n",
    "import requests\n",
    "import base64\n",
    "# Load your template metadata\n",
    "with open(\"templates.json\", \"r\") as f:\n",
    "    templates = json.load(f)\n"
   ]
  },
  {
   "cell_type": "code",
   "execution_count": null,
   "id": "866e882d",
   "metadata": {},
   "outputs": [],
   "source": [
    "st_model = SentenceTransformer(\"all-MiniLM-L6-v2\")\n",
    "descs = [t[\"description\"] + \" \" + \" \".join(t[\"tags\"]) for t in templates]\n",
    "desc_embeddings = st_model.encode(descs, convert_to_tensor=True)\n"
   ]
  },
  {
   "cell_type": "code",
   "execution_count": null,
   "id": "abae491e",
   "metadata": {},
   "outputs": [],
   "source": [
    "def select_template(prompt):\n",
    "    pe = st_model.encode(prompt, convert_to_tensor=True)\n",
    "    sims = util.cos_sim(pe, desc_embeddings)[0]\n",
    "    idx = sims.argmax().item()\n",
    "    tmpl = templates[idx]\n",
    "    return os.path.join(\"templates\", tmpl[\"id\"]), tmpl\n"
   ]
  },
  {
   "cell_type": "code",
   "execution_count": null,
   "id": "78e69b96",
   "metadata": {},
   "outputs": [],
   "source": [
    "def generate_caption(image_path, prompt):\n",
    "    with open(image_path, \"rb\") as img_file:\n",
    "        image_data = base64.b64encode(img_file.read()).decode(\"utf-8\")\n",
    "\n",
    "    response = requests.post(\n",
    "        \"http://localhost:11434/api/chat\",\n",
    "        json={\n",
    "            \"model\": \"llava:7b\",\n",
    "            \"messages\": [\n",
    "                {\"role\": \"system\", \"content\": \"generate a hillarious caption for this meme template\"},\n",
    "                {\"role\": \"user\", \"content\": prompt}\n",
    "            ],\n",
    "            \"images\": [image_data],\n",
    "            \"stream\": False\n",
    "        }\n",
    "    )\n",
    "\n",
    "    response.raise_for_status()\n",
    "    data = response.json()\n",
    "    caption = data[\"message\"][\"content\"]\n",
    "    return caption.strip()\n"
   ]
  },
  {
   "cell_type": "code",
   "execution_count": null,
   "id": "d8dcdbe5",
   "metadata": {},
   "outputs": [],
   "source": [
    "prompt = input(\"Enter your meme prompt: \")\n",
    "img_path, tmpl = select_template(prompt)\n",
    "print(\"\\n Using template:\", tmpl[\"id\"])\n",
    "print(\" Tags:\", \", \".join(tmpl[\"tags\"]), \"\\n\")\n",
    "\n",
    "caption = generate_caption(img_path, prompt)\n",
    "print(\" Generated Caption:\", caption)\n"
   ]
  }
 ],
 "metadata": {
  "kernelspec": {
   "display_name": "Python 3",
   "language": "python",
   "name": "python3"
  },
  "language_info": {
   "codemirror_mode": {
    "name": "ipython",
    "version": 3
   },
   "file_extension": ".py",
   "mimetype": "text/x-python",
   "name": "python",
   "nbconvert_exporter": "python",
   "pygments_lexer": "ipython3",
   "version": "3.13.4"
  }
 },
 "nbformat": 4,
 "nbformat_minor": 5
}
